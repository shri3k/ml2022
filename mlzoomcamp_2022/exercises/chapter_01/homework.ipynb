{
 "cells": [
  {
   "cell_type": "code",
   "execution_count": 2,
   "id": "31ab00ca",
   "metadata": {},
   "outputs": [],
   "source": [
    "import numpy as np"
   ]
  },
  {
   "cell_type": "markdown",
   "id": "bc3d5ae4",
   "metadata": {},
   "source": [
    "## Question 1: What's the version of NumPy that you installed?"
   ]
  },
  {
   "cell_type": "code",
   "execution_count": 3,
   "id": "df7df104",
   "metadata": {},
   "outputs": [
    {
     "data": {
      "text/plain": [
       "'1.23.3'"
      ]
     },
     "execution_count": 3,
     "metadata": {},
     "output_type": "execute_result"
    }
   ],
   "source": [
    "np.__version__"
   ]
  },
  {
   "cell_type": "markdown",
   "id": "aba523ae",
   "metadata": {},
   "source": [
    "#### Get the data"
   ]
  },
  {
   "cell_type": "code",
   "execution_count": 6,
   "id": "4e882f7b",
   "metadata": {},
   "outputs": [],
   "source": [
    "import pandas as pd"
   ]
  },
  {
   "cell_type": "code",
   "execution_count": 23,
   "id": "41f1b5a7",
   "metadata": {},
   "outputs": [],
   "source": [
    "from http import client\n",
    "domain = \"raw.githubusercontent.com\"\n",
    "path = \"/alexeygrigorev/mlbookcamp-code/master/chapter-02-car-price/data.csv\"\n",
    "conn = client.HTTPSConnection(domain)\n",
    "conn.request(\"GET\", path)\n",
    "resp = conn.getresponse()\n",
    "df = pd.read_csv(resp)"
   ]
  },
  {
   "cell_type": "markdown",
   "id": "23a89295",
   "metadata": {},
   "source": [
    "# Question 2: How many records are in the dataset?"
   ]
  },
  {
   "cell_type": "code",
   "execution_count": 24,
   "id": "533c2d1d",
   "metadata": {},
   "outputs": [
    {
     "data": {
      "text/plain": [
       "11914"
      ]
     },
     "execution_count": 24,
     "metadata": {},
     "output_type": "execute_result"
    }
   ],
   "source": [
    "len(df)"
   ]
  },
  {
   "cell_type": "markdown",
   "id": "1c569832",
   "metadata": {},
   "source": [
    "#### Cleaning up the data"
   ]
  },
  {
   "cell_type": "code",
   "execution_count": 28,
   "id": "2f811de6",
   "metadata": {},
   "outputs": [],
   "source": [
    "def clean_data(df):\n",
    "    df.columns = normalize_headers(df.columns)\n",
    "    \n",
    "def normalize_headers(columns):\n",
    "    return columns.str.lower().str.replace(' ', '_')\n",
    "clean_data(df)"
   ]
  },
  {
   "cell_type": "markdown",
   "id": "543e5742",
   "metadata": {},
   "source": [
    "# Question 3: Which are the most fequent car manufacturers (top 3) according to the dataset?"
   ]
  },
  {
   "cell_type": "code",
   "execution_count": 34,
   "id": "8f240e76",
   "metadata": {},
   "outputs": [
    {
     "data": {
      "text/plain": [
       "make\n",
       "Chevrolet     1123\n",
       "Ford           881\n",
       "Volkswagen     809\n",
       "Name: make, dtype: int64"
      ]
     },
     "execution_count": 34,
     "metadata": {},
     "output_type": "execute_result"
    }
   ],
   "source": [
    "df.groupby(\"make\").make.count().sort_values(ascending=False).head(n=3)"
   ]
  },
  {
   "cell_type": "markdown",
   "id": "c6a0958a",
   "metadata": {},
   "source": [
    "# Question 4: What's the number of unique Audi car models in the dataset?"
   ]
  },
  {
   "cell_type": "code",
   "execution_count": 42,
   "id": "67a2d27c",
   "metadata": {},
   "outputs": [
    {
     "data": {
      "text/plain": [
       "34"
      ]
     },
     "execution_count": 42,
     "metadata": {},
     "output_type": "execute_result"
    }
   ],
   "source": [
    "df[df.make.str.lower()==\"audi\"].model.nunique()"
   ]
  },
  {
   "cell_type": "markdown",
   "id": "aa90883f",
   "metadata": {},
   "source": [
    "# Question 5: How many columns in the dataset have missing values?"
   ]
  },
  {
   "cell_type": "code",
   "execution_count": 63,
   "id": "a1761d79",
   "metadata": {},
   "outputs": [
    {
     "data": {
      "text/plain": [
       "5"
      ]
     },
     "execution_count": 63,
     "metadata": {},
     "output_type": "execute_result"
    }
   ],
   "source": [
    "len(df.columns[df.isnull().sum() > 0])"
   ]
  },
  {
   "cell_type": "markdown",
   "id": "47487756",
   "metadata": {},
   "source": [
    "# Question 6.1: Find the mean value of \"Engine Cylinders\" column in the dataset"
   ]
  },
  {
   "cell_type": "code",
   "execution_count": 65,
   "id": "56a52016",
   "metadata": {},
   "outputs": [
    {
     "data": {
      "text/plain": [
       "6.0"
      ]
     },
     "execution_count": 65,
     "metadata": {},
     "output_type": "execute_result"
    }
   ],
   "source": [
    "df.engine_cylinders.median()"
   ]
  },
  {
   "cell_type": "markdown",
   "id": "6e9e9065",
   "metadata": {},
   "source": [
    "# Question 6.2: Calculate the most frequent value of the same \"Engine Cylinders\""
   ]
  },
  {
   "cell_type": "code",
   "execution_count": 77,
   "id": "bb8ccdc8",
   "metadata": {},
   "outputs": [],
   "source": [
    "most_frequent = df.groupby(\"engine_cylinders\").engine_cylinders.count().sort_values(ascending=False).head(n=1).values[0]"
   ]
  },
  {
   "cell_type": "markdown",
   "id": "b9310931",
   "metadata": {},
   "source": [
    "# Question 6.3: Use the `fillna` method to fill the missing values in \"Engine Cylinder\" with the most frequent value from the previous step."
   ]
  },
  {
   "cell_type": "code",
   "execution_count": 78,
   "id": "c25dfabd",
   "metadata": {},
   "outputs": [
    {
     "data": {
      "text/plain": [
       "0        6.0\n",
       "1        6.0\n",
       "2        6.0\n",
       "3        6.0\n",
       "4        6.0\n",
       "        ... \n",
       "11909    6.0\n",
       "11910    6.0\n",
       "11911    6.0\n",
       "11912    6.0\n",
       "11913    6.0\n",
       "Name: engine_cylinders, Length: 11914, dtype: float64"
      ]
     },
     "execution_count": 78,
     "metadata": {},
     "output_type": "execute_result"
    }
   ],
   "source": [
    "df.engine_cylinders.fillna(most_frequent)"
   ]
  },
  {
   "cell_type": "markdown",
   "id": "59cc45af",
   "metadata": {},
   "source": [
    "# Question 6.4: Now, calculate the median value of \"Engine Cylinder\" once again."
   ]
  },
  {
   "cell_type": "code",
   "execution_count": 79,
   "id": "dcc751fa",
   "metadata": {},
   "outputs": [
    {
     "data": {
      "text/plain": [
       "6.0"
      ]
     },
     "execution_count": 79,
     "metadata": {},
     "output_type": "execute_result"
    }
   ],
   "source": [
    "df.engine_cylinders.median()"
   ]
  },
  {
   "cell_type": "markdown",
   "id": "e36dea7d",
   "metadata": {},
   "source": [
    "# Question 7.1: Select all the \"Lotus\" car from the dataset"
   ]
  },
  {
   "cell_type": "code",
   "execution_count": 83,
   "id": "0bb22022",
   "metadata": {},
   "outputs": [],
   "source": [
    "lotus = df[df.make.str.lower()==\"lotus\"]"
   ]
  },
  {
   "cell_type": "markdown",
   "id": "d9210435",
   "metadata": {},
   "source": [
    "# Question 7.2: Select only columns \"Engine HP\", \"Engine Cylinders\""
   ]
  },
  {
   "cell_type": "code",
   "execution_count": 106,
   "id": "b5401ad4",
   "metadata": {},
   "outputs": [],
   "source": [
    "hp_and_cylinders=lotus[[\"engine_hp\", \"engine_cylinders\"]]"
   ]
  },
  {
   "cell_type": "markdown",
   "id": "60fc2098",
   "metadata": {},
   "source": [
    "# Question 7.3: Now drop all duplicated rows using `drop_duplicates` method (you should get a datafram with 9 rows)"
   ]
  },
  {
   "cell_type": "code",
   "execution_count": 151,
   "id": "6c703a23",
   "metadata": {},
   "outputs": [],
   "source": [
    "unique_hp_cylinders = hp_and_cylinders.drop_duplicates()"
   ]
  },
  {
   "cell_type": "markdown",
   "id": "4648c891",
   "metadata": {},
   "source": [
    "# Question 7.4: Get the underlying NumPy array. Let's call it X"
   ]
  },
  {
   "cell_type": "code",
   "execution_count": 150,
   "id": "0179af92",
   "metadata": {},
   "outputs": [],
   "source": [
    "X = unique_hp_cylinders.values"
   ]
  },
  {
   "cell_type": "markdown",
   "id": "e7390426",
   "metadata": {},
   "source": [
    "# Question 7.5: Compute matrix-matrix multiplication between the transpose of `X` and `X`. To get the transpose, use `X.T`. Let's call the result `XTX`\n",
    "\n"
   ]
  },
  {
   "cell_type": "code",
   "execution_count": 149,
   "id": "bcb523ef",
   "metadata": {},
   "outputs": [],
   "source": [
    "XTX = X.T.dot(X)"
   ]
  },
  {
   "cell_type": "markdown",
   "id": "0b7a86ec",
   "metadata": {},
   "source": [
    "# Question 7.6: Invert XTX"
   ]
  },
  {
   "cell_type": "code",
   "execution_count": 146,
   "id": "6f4327c4",
   "metadata": {},
   "outputs": [],
   "source": [
    "XTX_inverse = np.linalg.inv(XTX)"
   ]
  },
  {
   "cell_type": "markdown",
   "id": "1ea79518",
   "metadata": {},
   "source": [
    "# Question 7.7: Create an array `y` with values `[1100,800,750,850,1300,1000,1300,800]`"
   ]
  },
  {
   "cell_type": "code",
   "execution_count": 147,
   "id": "88e657e2",
   "metadata": {},
   "outputs": [],
   "source": [
    "y = np.array([1100, 800, 750, 850, 1300, 1000, 1000, 1300, 800])"
   ]
  },
  {
   "cell_type": "markdown",
   "id": "74447e19",
   "metadata": {},
   "source": [
    "# Question 7.8: Multiply the inverse of XTX with the transpose of `X`, and then multiply the result of `y`. Call the result `w`"
   ]
  },
  {
   "cell_type": "code",
   "execution_count": 148,
   "id": "185d2924",
   "metadata": {},
   "outputs": [],
   "source": [
    "w = XTX_inverse.dot(X.T).dot(y)"
   ]
  },
  {
   "cell_type": "code",
   "execution_count": 145,
   "id": "c7bd1708",
   "metadata": {},
   "outputs": [
    {
     "data": {
      "text/plain": [
       "array([  4.59494481, -63.56432501])"
      ]
     },
     "execution_count": 145,
     "metadata": {},
     "output_type": "execute_result"
    }
   ],
   "source": [
    "w"
   ]
  }
 ],
 "metadata": {
  "kernelspec": {
   "display_name": "Python 3 (ipykernel)",
   "language": "python",
   "name": "python3"
  },
  "language_info": {
   "codemirror_mode": {
    "name": "ipython",
    "version": 3
   },
   "file_extension": ".py",
   "mimetype": "text/x-python",
   "name": "python",
   "nbconvert_exporter": "python",
   "pygments_lexer": "ipython3",
   "version": "3.10.4"
  }
 },
 "nbformat": 4,
 "nbformat_minor": 5
}
