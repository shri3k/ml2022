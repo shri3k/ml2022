{
 "cells": [
  {
   "cell_type": "code",
   "execution_count": 1,
   "id": "cbcd0cff",
   "metadata": {},
   "outputs": [],
   "source": [
    "import numpy as np\n",
    "import pandas as pd"
   ]
  },
  {
   "cell_type": "markdown",
   "id": "55671a93",
   "metadata": {},
   "source": [
    "### Prepare data"
   ]
  },
  {
   "cell_type": "code",
   "execution_count": 2,
   "id": "2491b57a",
   "metadata": {},
   "outputs": [],
   "source": [
    "df_orig = pd.read_csv(\"https://raw.githubusercontent.com/alexeygrigorev/datasets/master/housing.csv\")"
   ]
  },
  {
   "cell_type": "code",
   "execution_count": 3,
   "id": "32f2ec6b",
   "metadata": {},
   "outputs": [],
   "source": [
    "features = ['latitude',\n",
    "'longitude',\n",
    "'housing_median_age',\n",
    "'total_rooms',\n",
    "'total_bedrooms',\n",
    "'population',\n",
    "'households',\n",
    "'median_income',\n",
    "'median_house_value',\n",
    "'ocean_proximity',]"
   ]
  },
  {
   "cell_type": "code",
   "execution_count": 4,
   "id": "c61d9845",
   "metadata": {},
   "outputs": [
    {
     "data": {
      "text/plain": [
       "longitude               0\n",
       "latitude                0\n",
       "housing_median_age      0\n",
       "total_rooms             0\n",
       "total_bedrooms        207\n",
       "population              0\n",
       "households              0\n",
       "median_income           0\n",
       "median_house_value      0\n",
       "ocean_proximity         0\n",
       "dtype: int64"
      ]
     },
     "execution_count": 4,
     "metadata": {},
     "output_type": "execute_result"
    }
   ],
   "source": [
    "df_orig.isnull().sum() # check if any null value exists"
   ]
  },
  {
   "cell_type": "code",
   "execution_count": 5,
   "id": "98eeff05",
   "metadata": {},
   "outputs": [],
   "source": [
    "def pre_clean(df, feats, *, fill=0):\n",
    "    _df = df.copy()\n",
    "    _df = _df[feats]\n",
    "    _df.columns = df.columns.str.lower().str.replace(' ', '_')\n",
    "    for c in _df.columns[_df.dtypes == \"object\"].values:\n",
    "        _df[c] = _df[c].str.lower().str.replace(' ', '_')\n",
    "    _df.fillna(0)\n",
    "    return _df"
   ]
  },
  {
   "cell_type": "code",
   "execution_count": 6,
   "id": "4797fe14",
   "metadata": {},
   "outputs": [],
   "source": [
    "df = pre_clean(df_orig, features)"
   ]
  },
  {
   "cell_type": "code",
   "execution_count": 7,
   "id": "c0e9e988",
   "metadata": {},
   "outputs": [],
   "source": [
    "df[\"rooms_per_household\"] = df.total_rooms / df.households\n",
    "df[\"bedrooms_per_room\"] = df.total_bedrooms / df.total_rooms\n",
    "df[\"population_per_household\"] = df.population / df.households"
   ]
  },
  {
   "cell_type": "code",
   "execution_count": 8,
   "id": "3c0cd6dd",
   "metadata": {},
   "outputs": [
    {
     "data": {
      "text/html": [
       "<div>\n",
       "<style scoped>\n",
       "    .dataframe tbody tr th:only-of-type {\n",
       "        vertical-align: middle;\n",
       "    }\n",
       "\n",
       "    .dataframe tbody tr th {\n",
       "        vertical-align: top;\n",
       "    }\n",
       "\n",
       "    .dataframe thead th {\n",
       "        text-align: right;\n",
       "    }\n",
       "</style>\n",
       "<table border=\"1\" class=\"dataframe\">\n",
       "  <thead>\n",
       "    <tr style=\"text-align: right;\">\n",
       "      <th></th>\n",
       "      <th>0</th>\n",
       "      <th>1</th>\n",
       "      <th>2</th>\n",
       "      <th>3</th>\n",
       "      <th>4</th>\n",
       "    </tr>\n",
       "  </thead>\n",
       "  <tbody>\n",
       "    <tr>\n",
       "      <th>longitude</th>\n",
       "      <td>37.88</td>\n",
       "      <td>37.86</td>\n",
       "      <td>37.85</td>\n",
       "      <td>37.85</td>\n",
       "      <td>37.85</td>\n",
       "    </tr>\n",
       "    <tr>\n",
       "      <th>latitude</th>\n",
       "      <td>-122.23</td>\n",
       "      <td>-122.22</td>\n",
       "      <td>-122.24</td>\n",
       "      <td>-122.25</td>\n",
       "      <td>-122.25</td>\n",
       "    </tr>\n",
       "    <tr>\n",
       "      <th>housing_median_age</th>\n",
       "      <td>41.0</td>\n",
       "      <td>21.0</td>\n",
       "      <td>52.0</td>\n",
       "      <td>52.0</td>\n",
       "      <td>52.0</td>\n",
       "    </tr>\n",
       "    <tr>\n",
       "      <th>total_rooms</th>\n",
       "      <td>880.0</td>\n",
       "      <td>7099.0</td>\n",
       "      <td>1467.0</td>\n",
       "      <td>1274.0</td>\n",
       "      <td>1627.0</td>\n",
       "    </tr>\n",
       "    <tr>\n",
       "      <th>total_bedrooms</th>\n",
       "      <td>129.0</td>\n",
       "      <td>1106.0</td>\n",
       "      <td>190.0</td>\n",
       "      <td>235.0</td>\n",
       "      <td>280.0</td>\n",
       "    </tr>\n",
       "    <tr>\n",
       "      <th>population</th>\n",
       "      <td>322.0</td>\n",
       "      <td>2401.0</td>\n",
       "      <td>496.0</td>\n",
       "      <td>558.0</td>\n",
       "      <td>565.0</td>\n",
       "    </tr>\n",
       "    <tr>\n",
       "      <th>households</th>\n",
       "      <td>126.0</td>\n",
       "      <td>1138.0</td>\n",
       "      <td>177.0</td>\n",
       "      <td>219.0</td>\n",
       "      <td>259.0</td>\n",
       "    </tr>\n",
       "    <tr>\n",
       "      <th>median_income</th>\n",
       "      <td>8.3252</td>\n",
       "      <td>8.3014</td>\n",
       "      <td>7.2574</td>\n",
       "      <td>5.6431</td>\n",
       "      <td>3.8462</td>\n",
       "    </tr>\n",
       "    <tr>\n",
       "      <th>median_house_value</th>\n",
       "      <td>452600.0</td>\n",
       "      <td>358500.0</td>\n",
       "      <td>352100.0</td>\n",
       "      <td>341300.0</td>\n",
       "      <td>342200.0</td>\n",
       "    </tr>\n",
       "    <tr>\n",
       "      <th>ocean_proximity</th>\n",
       "      <td>near_bay</td>\n",
       "      <td>near_bay</td>\n",
       "      <td>near_bay</td>\n",
       "      <td>near_bay</td>\n",
       "      <td>near_bay</td>\n",
       "    </tr>\n",
       "    <tr>\n",
       "      <th>rooms_per_household</th>\n",
       "      <td>6.984127</td>\n",
       "      <td>6.238137</td>\n",
       "      <td>8.288136</td>\n",
       "      <td>5.817352</td>\n",
       "      <td>6.281853</td>\n",
       "    </tr>\n",
       "    <tr>\n",
       "      <th>bedrooms_per_room</th>\n",
       "      <td>0.146591</td>\n",
       "      <td>0.155797</td>\n",
       "      <td>0.129516</td>\n",
       "      <td>0.184458</td>\n",
       "      <td>0.172096</td>\n",
       "    </tr>\n",
       "    <tr>\n",
       "      <th>population_per_household</th>\n",
       "      <td>2.555556</td>\n",
       "      <td>2.109842</td>\n",
       "      <td>2.80226</td>\n",
       "      <td>2.547945</td>\n",
       "      <td>2.181467</td>\n",
       "    </tr>\n",
       "  </tbody>\n",
       "</table>\n",
       "</div>"
      ],
      "text/plain": [
       "                                 0         1         2         3         4\n",
       "longitude                    37.88     37.86     37.85     37.85     37.85\n",
       "latitude                   -122.23   -122.22   -122.24   -122.25   -122.25\n",
       "housing_median_age            41.0      21.0      52.0      52.0      52.0\n",
       "total_rooms                  880.0    7099.0    1467.0    1274.0    1627.0\n",
       "total_bedrooms               129.0    1106.0     190.0     235.0     280.0\n",
       "population                   322.0    2401.0     496.0     558.0     565.0\n",
       "households                   126.0    1138.0     177.0     219.0     259.0\n",
       "median_income               8.3252    8.3014    7.2574    5.6431    3.8462\n",
       "median_house_value        452600.0  358500.0  352100.0  341300.0  342200.0\n",
       "ocean_proximity           near_bay  near_bay  near_bay  near_bay  near_bay\n",
       "rooms_per_household       6.984127  6.238137  8.288136  5.817352  6.281853\n",
       "bedrooms_per_room         0.146591  0.155797  0.129516  0.184458  0.172096\n",
       "population_per_household  2.555556  2.109842   2.80226  2.547945  2.181467"
      ]
     },
     "execution_count": 8,
     "metadata": {},
     "output_type": "execute_result"
    }
   ],
   "source": [
    "df.head().T"
   ]
  },
  {
   "cell_type": "markdown",
   "id": "6b9242ab",
   "metadata": {},
   "source": [
    "# Question 1: \n",
    "\n",
    "### What is the most frequent observation (mode) for the column `ocean_proximity`?"
   ]
  },
  {
   "cell_type": "code",
   "execution_count": 9,
   "id": "ddf31e17",
   "metadata": {},
   "outputs": [
    {
     "data": {
      "text/plain": [
       "0    <1h_ocean\n",
       "Name: ocean_proximity, dtype: object"
      ]
     },
     "execution_count": 9,
     "metadata": {},
     "output_type": "execute_result"
    }
   ],
   "source": [
    "# df.ocean_proximity.value_counts() # check others\n",
    "df.ocean_proximity.mode()"
   ]
  },
  {
   "cell_type": "markdown",
   "id": "eaf44682",
   "metadata": {},
   "source": [
    "# Question 2: \n",
    "- _Create the correlation matrix for the numerical features of your train dataset._\n",
    "- _In a correlation matrix, you compute the correlation coefficient between every pair of features in the dataset._\n",
    "### What are the two features that have the biggest correlation in this dataset?"
   ]
  },
  {
   "cell_type": "code",
   "execution_count": 10,
   "id": "0e676358",
   "metadata": {},
   "outputs": [
    {
     "data": {
      "text/plain": [
       "median_house_value          1.000000\n",
       "median_income               0.688075\n",
       "rooms_per_household         0.151948\n",
       "total_rooms                 0.134153\n",
       "housing_median_age          0.105623\n",
       "households                  0.065843\n",
       "total_bedrooms              0.049686\n",
       "population_per_household   -0.023737\n",
       "population                 -0.024650\n",
       "latitude                   -0.045967\n",
       "longitude                  -0.144160\n",
       "bedrooms_per_room          -0.255880\n",
       "dtype: float64"
      ]
     },
     "execution_count": 10,
     "metadata": {},
     "output_type": "execute_result"
    }
   ],
   "source": [
    "numeric_col_features = df.columns[df.dtypes != 'object']\n",
    "df[numeric_col_features].corrwith(df.median_house_value).sort_values(ascending=False)"
   ]
  },
  {
   "cell_type": "markdown",
   "id": "78728405",
   "metadata": {},
   "source": [
    "### Make `median_house_value` binary\n",
    "\n",
    "- _We need to turn the `median_house_value` variable from numeric into binary_\n",
    "- _Let's create a variable `above_average` which is `1` if the `median_house_value` is above it's mean value and `0` otherwise_\n"
   ]
  },
  {
   "cell_type": "code",
   "execution_count": 11,
   "id": "466d75d9",
   "metadata": {},
   "outputs": [],
   "source": [
    "above_average = (df.median_house_value > df.median_house_value.mean()).astype('int')\n",
    "df.median_house_value = above_average"
   ]
  },
  {
   "cell_type": "markdown",
   "id": "cda61347",
   "metadata": {},
   "source": [
    "### Split the data\n",
    "\n",
    "- _Split your data in train/val/test sets, with 60%/20%/20% distribution._\n",
    "- _Use Scikit-Learn for that (the train_test_split function) and set the seed to 42._\n",
    "- _Make sure that the target value (median_house_value) is not in your dataframe._"
   ]
  },
  {
   "cell_type": "code",
   "execution_count": 12,
   "id": "88cd3d99",
   "metadata": {},
   "outputs": [],
   "source": [
    "from sklearn.model_selection import train_test_split\n",
    "random_seed = 42\n",
    "X_full_train, X_test = train_test_split(df, test_size=0.2, random_state=random_seed)\n",
    "X_train, X_val = train_test_split(X_full_train, test_size=0.25, random_state=random_seed)\n",
    "\n",
    "y_train = X_train.median_house_value\n",
    "y_val = X_val.median_house_value\n",
    "y_test = X_test.median_house_value\n",
    "\n",
    "# Remove target value from X\n",
    "for i in [X_train, X_val, X_test]:\n",
    "    del i['median_house_value']    "
   ]
  },
  {
   "cell_type": "markdown",
   "id": "3afe7d9b",
   "metadata": {},
   "source": [
    "# Question 3:\n",
    "- _Calculate the mutual information score with the (binarized) price for the categorical variable that we have. Use the training set only._\n",
    "- **What is the value of mutual information?**\n",
    "- _Round it to 2 decimal digits using round(score, 2)_\n"
   ]
  },
  {
   "cell_type": "code",
   "execution_count": 13,
   "id": "e1d301a8",
   "metadata": {},
   "outputs": [
    {
     "data": {
      "text/html": [
       "<div>\n",
       "<style scoped>\n",
       "    .dataframe tbody tr th:only-of-type {\n",
       "        vertical-align: middle;\n",
       "    }\n",
       "\n",
       "    .dataframe tbody tr th {\n",
       "        vertical-align: top;\n",
       "    }\n",
       "\n",
       "    .dataframe thead th {\n",
       "        text-align: right;\n",
       "    }\n",
       "</style>\n",
       "<table border=\"1\" class=\"dataframe\">\n",
       "  <thead>\n",
       "    <tr style=\"text-align: right;\">\n",
       "      <th></th>\n",
       "      <th>ocean_proximity</th>\n",
       "    </tr>\n",
       "  </thead>\n",
       "  <tbody>\n",
       "    <tr>\n",
       "      <th>17244</th>\n",
       "      <td>&lt;1h_ocean</td>\n",
       "    </tr>\n",
       "    <tr>\n",
       "      <th>8817</th>\n",
       "      <td>near_ocean</td>\n",
       "    </tr>\n",
       "    <tr>\n",
       "      <th>19686</th>\n",
       "      <td>inland</td>\n",
       "    </tr>\n",
       "    <tr>\n",
       "      <th>3545</th>\n",
       "      <td>&lt;1h_ocean</td>\n",
       "    </tr>\n",
       "    <tr>\n",
       "      <th>17019</th>\n",
       "      <td>near_ocean</td>\n",
       "    </tr>\n",
       "    <tr>\n",
       "      <th>...</th>\n",
       "      <td>...</td>\n",
       "    </tr>\n",
       "    <tr>\n",
       "      <th>5606</th>\n",
       "      <td>&lt;1h_ocean</td>\n",
       "    </tr>\n",
       "    <tr>\n",
       "      <th>16339</th>\n",
       "      <td>inland</td>\n",
       "    </tr>\n",
       "    <tr>\n",
       "      <th>14965</th>\n",
       "      <td>&lt;1h_ocean</td>\n",
       "    </tr>\n",
       "    <tr>\n",
       "      <th>11117</th>\n",
       "      <td>&lt;1h_ocean</td>\n",
       "    </tr>\n",
       "    <tr>\n",
       "      <th>8472</th>\n",
       "      <td>&lt;1h_ocean</td>\n",
       "    </tr>\n",
       "  </tbody>\n",
       "</table>\n",
       "<p>12384 rows × 1 columns</p>\n",
       "</div>"
      ],
      "text/plain": [
       "      ocean_proximity\n",
       "17244       <1h_ocean\n",
       "8817       near_ocean\n",
       "19686          inland\n",
       "3545        <1h_ocean\n",
       "17019      near_ocean\n",
       "...               ...\n",
       "5606        <1h_ocean\n",
       "16339          inland\n",
       "14965       <1h_ocean\n",
       "11117       <1h_ocean\n",
       "8472        <1h_ocean\n",
       "\n",
       "[12384 rows x 1 columns]"
      ]
     },
     "execution_count": 13,
     "metadata": {},
     "output_type": "execute_result"
    }
   ],
   "source": [
    "X_train[df.columns[df.dtypes=='object']]"
   ]
  },
  {
   "cell_type": "code",
   "execution_count": 14,
   "id": "0bec83c9",
   "metadata": {},
   "outputs": [
    {
     "data": {
      "text/plain": [
       "ocean_proximity    0.1\n",
       "dtype: float64"
      ]
     },
     "execution_count": 14,
     "metadata": {},
     "output_type": "execute_result"
    }
   ],
   "source": [
    "from sklearn.metrics import mutual_info_score\n",
    "categorical_features = df.columns[df.dtypes=='object']\n",
    "X_train[categorical_features].apply(lambda x, y: mutual_info_score(x, y), args=[y_train]).round(2)"
   ]
  },
  {
   "cell_type": "markdown",
   "id": "4c3e428c",
   "metadata": {},
   "source": [
    "# Question 4:\n",
    "\n",
    "- _Now let's train a logistic regression_\n",
    "- _Remember that we have one categorical variable ocean_proximity in the data. Include it using one-hot encoding._\n",
    "- _Fit the model on the training dataset._\n",
    "    - _To make sure the results are reproducible across different versions of Scikit-Learn, fit the model with these parameters:_\n",
    "    - _model = LogisticRegression(solver=\"liblinear\", C=1.0, max_iter=1000, random_state=42)_\n",
    "    - _Calculate the accuracy on the validation dataset and round it to 2 decimal digits._"
   ]
  },
  {
   "cell_type": "code",
   "execution_count": 15,
   "id": "fc54668b",
   "metadata": {},
   "outputs": [
    {
     "data": {
      "text/html": [
       "<style>#sk-container-id-1 {color: black;background-color: white;}#sk-container-id-1 pre{padding: 0;}#sk-container-id-1 div.sk-toggleable {background-color: white;}#sk-container-id-1 label.sk-toggleable__label {cursor: pointer;display: block;width: 100%;margin-bottom: 0;padding: 0.3em;box-sizing: border-box;text-align: center;}#sk-container-id-1 label.sk-toggleable__label-arrow:before {content: \"▸\";float: left;margin-right: 0.25em;color: #696969;}#sk-container-id-1 label.sk-toggleable__label-arrow:hover:before {color: black;}#sk-container-id-1 div.sk-estimator:hover label.sk-toggleable__label-arrow:before {color: black;}#sk-container-id-1 div.sk-toggleable__content {max-height: 0;max-width: 0;overflow: hidden;text-align: left;background-color: #f0f8ff;}#sk-container-id-1 div.sk-toggleable__content pre {margin: 0.2em;color: black;border-radius: 0.25em;background-color: #f0f8ff;}#sk-container-id-1 input.sk-toggleable__control:checked~div.sk-toggleable__content {max-height: 200px;max-width: 100%;overflow: auto;}#sk-container-id-1 input.sk-toggleable__control:checked~label.sk-toggleable__label-arrow:before {content: \"▾\";}#sk-container-id-1 div.sk-estimator input.sk-toggleable__control:checked~label.sk-toggleable__label {background-color: #d4ebff;}#sk-container-id-1 div.sk-label input.sk-toggleable__control:checked~label.sk-toggleable__label {background-color: #d4ebff;}#sk-container-id-1 input.sk-hidden--visually {border: 0;clip: rect(1px 1px 1px 1px);clip: rect(1px, 1px, 1px, 1px);height: 1px;margin: -1px;overflow: hidden;padding: 0;position: absolute;width: 1px;}#sk-container-id-1 div.sk-estimator {font-family: monospace;background-color: #f0f8ff;border: 1px dotted black;border-radius: 0.25em;box-sizing: border-box;margin-bottom: 0.5em;}#sk-container-id-1 div.sk-estimator:hover {background-color: #d4ebff;}#sk-container-id-1 div.sk-parallel-item::after {content: \"\";width: 100%;border-bottom: 1px solid gray;flex-grow: 1;}#sk-container-id-1 div.sk-label:hover label.sk-toggleable__label {background-color: #d4ebff;}#sk-container-id-1 div.sk-serial::before {content: \"\";position: absolute;border-left: 1px solid gray;box-sizing: border-box;top: 0;bottom: 0;left: 50%;z-index: 0;}#sk-container-id-1 div.sk-serial {display: flex;flex-direction: column;align-items: center;background-color: white;padding-right: 0.2em;padding-left: 0.2em;position: relative;}#sk-container-id-1 div.sk-item {position: relative;z-index: 1;}#sk-container-id-1 div.sk-parallel {display: flex;align-items: stretch;justify-content: center;background-color: white;position: relative;}#sk-container-id-1 div.sk-item::before, #sk-container-id-1 div.sk-parallel-item::before {content: \"\";position: absolute;border-left: 1px solid gray;box-sizing: border-box;top: 0;bottom: 0;left: 50%;z-index: -1;}#sk-container-id-1 div.sk-parallel-item {display: flex;flex-direction: column;z-index: 1;position: relative;background-color: white;}#sk-container-id-1 div.sk-parallel-item:first-child::after {align-self: flex-end;width: 50%;}#sk-container-id-1 div.sk-parallel-item:last-child::after {align-self: flex-start;width: 50%;}#sk-container-id-1 div.sk-parallel-item:only-child::after {width: 0;}#sk-container-id-1 div.sk-dashed-wrapped {border: 1px dashed gray;margin: 0 0.4em 0.5em 0.4em;box-sizing: border-box;padding-bottom: 0.4em;background-color: white;}#sk-container-id-1 div.sk-label label {font-family: monospace;font-weight: bold;display: inline-block;line-height: 1.2em;}#sk-container-id-1 div.sk-label-container {text-align: center;}#sk-container-id-1 div.sk-container {/* jupyter's `normalize.less` sets `[hidden] { display: none; }` but bootstrap.min.css set `[hidden] { display: none !important; }` so we also need the `!important` here to be able to override the default hidden behavior on the sphinx rendered scikit-learn.org. See: https://github.com/scikit-learn/scikit-learn/issues/21755 */display: inline-block !important;position: relative;}#sk-container-id-1 div.sk-text-repr-fallback {display: none;}</style><div id=\"sk-container-id-1\" class=\"sk-top-container\"><div class=\"sk-text-repr-fallback\"><pre>LogisticRegression(max_iter=1000, random_state=42, solver=&#x27;liblinear&#x27;)</pre><b>In a Jupyter environment, please rerun this cell to show the HTML representation or trust the notebook. <br />On GitHub, the HTML representation is unable to render, please try loading this page with nbviewer.org.</b></div><div class=\"sk-container\" hidden><div class=\"sk-item\"><div class=\"sk-estimator sk-toggleable\"><input class=\"sk-toggleable__control sk-hidden--visually\" id=\"sk-estimator-id-1\" type=\"checkbox\" checked><label for=\"sk-estimator-id-1\" class=\"sk-toggleable__label sk-toggleable__label-arrow\">LogisticRegression</label><div class=\"sk-toggleable__content\"><pre>LogisticRegression(max_iter=1000, random_state=42, solver=&#x27;liblinear&#x27;)</pre></div></div></div></div></div>"
      ],
      "text/plain": [
       "LogisticRegression(max_iter=1000, random_state=42, solver='liblinear')"
      ]
     },
     "execution_count": 15,
     "metadata": {},
     "output_type": "execute_result"
    }
   ],
   "source": [
    "from sklearn.feature_extraction import DictVectorizer\n",
    "from sklearn.linear_model import LogisticRegression\n",
    "X_train_dicts = X_train.to_dict(orient='records')\n",
    "dv = DictVectorizer(sparse=False)\n",
    "X_train_dv = dv.fit_transform(X_train_dicts)\n",
    "lr_model = LogisticRegression(solver=\"liblinear\", C=1.0,max_iter=1000,random_state=42)\n",
    "lr_model.fit(X_train_dv, y_train)"
   ]
  },
  {
   "cell_type": "code",
   "execution_count": 16,
   "id": "11b8aafc",
   "metadata": {},
   "outputs": [],
   "source": [
    "X_val_dv = dv.fit_transform(X_val.to_dict(orient='records'))\n",
    "y_pred = lr_model.predict_proba(X_val_dv)[:, 1]\n",
    "y_pred_binary = (y_pred > y_pred.mean()).astype('int')"
   ]
  },
  {
   "cell_type": "code",
   "execution_count": 17,
   "id": "03fd49f2",
   "metadata": {},
   "outputs": [
    {
     "name": "stdout",
     "output_type": "stream",
     "text": [
      "Accuracy:  0.9561531007751938\n"
     ]
    }
   ],
   "source": [
    "accuracy = 1 - ((y_pred_binary - y_val).mean())\n",
    "print(\"Accuracy: \", accuracy)"
   ]
  },
  {
   "cell_type": "markdown",
   "id": "e73104fe",
   "metadata": {},
   "source": [
    "# Question 5\n",
    "\n",
    "- _Let's find the least useful feature using the feature elimination technique._\n",
    "- _Train a model with all these features (using the same parameters as in Q4)._\n",
    "- _Now exclude each feature from this set and train a model without it. Record the accuracy for each model._\n",
    "- _For each feature, calculate the difference between the original accuracy and the accuracy without the feature._\n",
    "- **Which of following feature has the smallest difference?**\n",
    "    - **total_rooms**\n",
    "    - **total_bedrooms**\n",
    "    - **population**\n",
    "    - **households**\n",
    "    \n",
    "> **Note**: the difference doesn't have to be positive"
   ]
  },
  {
   "cell_type": "code",
   "execution_count": 18,
   "id": "ce8b4295",
   "metadata": {},
   "outputs": [],
   "source": [
    "from sklearn.feature_extraction import DictVectorizer\n",
    "from sklearn.linear_model import LogisticRegression\n",
    "\n",
    "def vectorize(X):\n",
    "    dv = DictVectorizer(sparse=False)\n",
    "    return dv.fit_transform(X.to_dict(orient='records'))\n",
    "    \n",
    "\n",
    "def train_logistic(X, y):\n",
    "    X_dv = vectorize(X)\n",
    "    model = LogisticRegression(solver=\"liblinear\", C=1.0,max_iter=1000,random_state=42)\n",
    "    return model.fit(X_dv, y)\n",
    "    \n",
    "    \n",
    "def get_accuracy_for_above_median_housing_value(model, x_real, y_real):\n",
    "    y_pred = model.predict_proba(x_real)[:,1]\n",
    "    y_pred_binary = (y_pred > y_pred.mean()).astype('int')\n",
    "    error = (y_pred_binary - y_real).mean()\n",
    "    return 1 - error\n"
   ]
  },
  {
   "cell_type": "code",
   "execution_count": 19,
   "id": "18f024c4",
   "metadata": {},
   "outputs": [
    {
     "name": "stdout",
     "output_type": "stream",
     "text": [
      "Original: all_accuracy=0.9561531007751938\n"
     ]
    },
    {
     "data": {
      "text/plain": [
       "[('ocean_proximity', -0.01380813953488369),\n",
       " ('population', -0.003875968992248069),\n",
       " ('households', -0.002664728682170603),\n",
       " ('rooms_per_household', -0.0014534883720930258),\n",
       " ('population_per_household', -0.0009689922480620172),\n",
       " ('bedrooms_per_room', -0.0004844961240310086),\n",
       " ('housing_median_age', -0.00024224806201555982),\n",
       " ('longitude', 0.0002422480620154488),\n",
       " ('total_bedrooms', 0.0002422480620154488),\n",
       " ('total_rooms', 0.0004844961240310086),\n",
       " ('latitude', 0.004118217054263518),\n",
       " ('median_income', 0.05620155038759689)]"
      ]
     },
     "execution_count": 19,
     "metadata": {},
     "output_type": "execute_result"
    }
   ],
   "source": [
    "w_all_feature = train_logistic(X_train, y_train)\n",
    "all_accuracy = get_accuracy_for_above_median_housing_value(w_all_feature, vectorize(X_val), y_val)\n",
    "print(f\"Original: {all_accuracy=}\", end=\"\\n\")\n",
    "\n",
    "features = list(df.columns)\n",
    "features.remove('median_house_value')\n",
    "diff = []\n",
    "for f in features:\n",
    "    feature_copy = features.copy()\n",
    "    feature_copy.remove(f)\n",
    "    X_train_f = X_train[feature_copy]\n",
    "    X_val_f = X_val[feature_copy]\n",
    "    w = train_logistic(X_train_f, y_train)\n",
    "    accuracy = get_accuracy_for_above_median_housing_value(w, vectorize(X_val_f), y_val)\n",
    "    _diff = all_accuracy - accuracy\n",
    "    diff.append((f, _diff))\n",
    "sorted(diff, key=lambda x: x[1])"
   ]
  },
  {
   "cell_type": "markdown",
   "id": "d7c99dbf",
   "metadata": {},
   "source": [
    "# Question 6\n",
    "\n",
    "- _For this question, we'll see how to use a linear regression model from Scikit-Learn_\n",
    "- _We'll need to use the original column 'median_house_value'. Apply the logarithmic transformation to this column._\n",
    "- _Fit the Ridge regression model (model = Ridge(alpha=a, solver=\"sag\", random_state=42)) on the training data._\n",
    "- _This model has a parameter alpha. Let's try the following values: [0, 0.01, 0.1, 1, 10]_\n",
    "- _Which of these alphas leads to the best RMSE on the validation set? Round your RMSE scores to 3 decimal digits._\n",
    "If there are multiple options, select the smallest alpha."
   ]
  },
  {
   "cell_type": "code",
   "execution_count": 24,
   "id": "1d094c33",
   "metadata": {},
   "outputs": [],
   "source": [
    "from sklearn.linear_model import Ridge\n",
    "from sklearn.feature_extraction import DictVectorizer\n",
    "from sklearn.model_selection import train_test_split\n",
    "df_logi = pre_clean(df_orig.copy().fillna(0), df_orig.columns)\n",
    "df_logi.median_house_value = np.log1p(df_logi.median_house_value) # apply the log transformation\n",
    "X_full_train_logi, X_test_logi = train_test_split(df_logi, test_size=0.2)\n",
    "X_train_logi, X_val_logi = train_test_split(X_full_train_logi, test_size=0.25)\n",
    "\n",
    "y_train_logi = X_train_logi.median_house_value\n",
    "y_val_logi = X_val_logi.median_house_value\n",
    "y_test_logi = X_test_logi.median_house_value\n",
    "\n",
    "del X_train_logi[\"median_house_value\"]\n",
    "del X_val_logi[\"median_house_value\"]\n",
    "del X_test_logi[\"median_house_value\"]"
   ]
  },
  {
   "cell_type": "code",
   "execution_count": 32,
   "id": "84a699a1",
   "metadata": {},
   "outputs": [
    {
     "name": "stdout",
     "output_type": "stream",
     "text": [
      "0\t0.527\n",
      "0.01\t0.527\n",
      "0.1\t0.527\n",
      "1\t0.527\n",
      "10\t0.527\n"
     ]
    }
   ],
   "source": [
    "def rmse(y, y_pred):\n",
    "    error = y_pred - y\n",
    "    mse = (error ** 2).mean()\n",
    "    return np.sqrt(mse)\n",
    "\n",
    "X_train_logi_dv = DictVectorizer(sparse=False).fit_transform(X_train_logi.to_dict(orient=\"records\"))\n",
    "X_val_logi_dv = DictVectorizer(sparse=False).fit_transform(X_val_logi.to_dict(orient=\"records\"))\n",
    "\n",
    "alphas = [0, 0.01, 0.1, 1, 10]\n",
    "for a in alphas:\n",
    "    model = Ridge(alpha=a, solver=\"sag\", random_state=42)\n",
    "    w = model.fit(X_train_logi_dv, y_train_logi)\n",
    "    y_pred = w.predict(X_val_logi_dv)\n",
    "    print(a, rmse(y_val_logi, y_pred).round(3), sep=\"\\t\")"
   ]
  },
  {
   "cell_type": "markdown",
   "id": "35ad287d",
   "metadata": {},
   "source": [
    "---"
   ]
  },
  {
   "cell_type": "code",
   "execution_count": null,
   "id": "28ccc2eb",
   "metadata": {},
   "outputs": [],
   "source": []
  }
 ],
 "metadata": {
  "kernelspec": {
   "display_name": "Python 3 (ipykernel)",
   "language": "python",
   "name": "python3"
  },
  "language_info": {
   "codemirror_mode": {
    "name": "ipython",
    "version": 3
   },
   "file_extension": ".py",
   "mimetype": "text/x-python",
   "name": "python",
   "nbconvert_exporter": "python",
   "pygments_lexer": "ipython3",
   "version": "3.10.4"
  }
 },
 "nbformat": 4,
 "nbformat_minor": 5
}
